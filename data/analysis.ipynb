{
 "cells": [
  {
   "cell_type": "code",
   "execution_count": 557,
   "metadata": {},
   "outputs": [],
   "source": [
    "import pandas as pd\n",
    "from sklearn.linear_model import LogisticRegression"
   ]
  },
  {
   "cell_type": "code",
   "execution_count": 558,
   "metadata": {},
   "outputs": [],
   "source": [
    "database = pd.read_csv('COBRA-YTD2017.csv')"
   ]
  },
  {
   "cell_type": "code",
   "execution_count": 559,
   "metadata": {},
   "outputs": [
    {
     "data": {
      "text/plain": [
       "LARCENY-FROM VEHICLE    9840\n",
       "LARCENY-NON VEHICLE     6589\n",
       "AUTO THEFT              3197\n",
       "BURGLARY-RESIDENCE      2635\n",
       "AGG ASSAULT             2024\n",
       "ROBBERY-PEDESTRIAN      1126\n",
       "BURGLARY-NONRES          758\n",
       "RAPE                     226\n",
       "ROBBERY-COMMERCIAL       157\n",
       "ROBBERY-RESIDENCE        132\n",
       "HOMICIDE                  75\n",
       "Name: Crime, dtype: int64"
      ]
     },
     "execution_count": 559,
     "metadata": {},
     "output_type": "execute_result"
    }
   ],
   "source": [
    "database.rename(columns={'UC2 Literal' : 'Crime', 'occur_time': 'time', 'MaxOfnum_victims': 'victims', 'Avg Day': 'day'}, inplace=True)\n",
    "# database.head()\n",
    "database.Crime.value_counts()"
   ]
  },
  {
   "cell_type": "code",
   "execution_count": 560,
   "metadata": {},
   "outputs": [
    {
     "data": {
      "text/plain": [
       "LARCENY-FROM VEHICLE    9837\n",
       "LARCENY-NON VEHICLE     6586\n",
       "AUTO THEFT              3197\n",
       "BURGLARY-RESIDENCE      2635\n",
       "AGG ASSAULT             2023\n",
       "ROBBERY-PEDESTRIAN      1126\n",
       "BURGLARY-NONRES          758\n",
       "RAPE                     226\n",
       "ROBBERY-COMMERCIAL       157\n",
       "ROBBERY-RESIDENCE        132\n",
       "Name: Crime, dtype: int64"
      ]
     },
     "execution_count": 560,
     "metadata": {},
     "output_type": "execute_result"
    }
   ],
   "source": [
    "# NOTE : I removed rows where victims are only 1, it screws up the results.\n",
    "\n",
    "# database.day.unique()\n",
    "arr = [23, 24, 21, 19, 27, 17, 15]\n",
    "database = database[database.victims != 23]\n",
    "database = database[database.victims != 24]\n",
    "database = database[database.victims != 21]\n",
    "database = database[database.victims != 19]\n",
    "database = database[database.victims != 27]\n",
    "database = database[database.victims != 17]\n",
    "database = database[database.victims != 15]\n",
    "database = database[database.Crime != 'HOMICIDE']\n",
    "database.Crime.value_counts()"
   ]
  },
  {
   "cell_type": "code",
   "execution_count": 561,
   "metadata": {},
   "outputs": [
    {
     "data": {
      "text/plain": [
       "10"
      ]
     },
     "execution_count": 561,
     "metadata": {},
     "output_type": "execute_result"
    }
   ],
   "source": [
    "# NOTE: Clean up database and remove strings basically.\n",
    "\n",
    "database['Crime'] = database['Crime'].replace({'LARCENY-FROM VEHICLE': '1',\n",
    "                          'ROBBERY-PEDESTRIAN': '2',\n",
    "                          'BURGLARY-RESIDENCE': '3',\n",
    "                          'AUTO THEFT': '4',\n",
    "                          'BURGLARY-NONRES': '5',\n",
    "                          'ROBBERY-RESIDENCE': '6',\n",
    "                          'LARCENY-NON VEHICLE': '7',\n",
    "                          'AGG ASSAULT': '8',\n",
    "                            'RAPE': '9',\n",
    "                          'ROBBERY-COMMERCIAL': '10',\n",
    "                          'HOMICIDE': '11'})\n",
    "\n",
    "database['day'] = database['day'].replace({'Mon': '1',\n",
    "                                          'Tue': '2',\n",
    "                                          'Wed': '3',\n",
    "                                          'Thu': '4',\n",
    "                                          'Fri': '5',\n",
    "                                          'Sat': '6',\n",
    "                                          'Sun': '7',\n",
    "                                          'Unk': '0'})\n",
    "\n",
    "database.Crime.nunique()"
   ]
  },
  {
   "cell_type": "code",
   "execution_count": 562,
   "metadata": {},
   "outputs": [],
   "source": [
    "# NOTE : Gotta convert everything to int for train_test_split\n",
    "\n",
    "database['time'] = pd.to_datetime(database.time)\n",
    "# # TODO: Figure out how to plot a scatter_matrix\n",
    "\n",
    "# # from pandas.plotting import scatter_matrix\n",
    "\n",
    "# # database['occur_time'] = pd.to_datetime(database['occur_time'], errors='coerce')\n",
    "\n",
    "# # database['occur_time'] = database['occur_time'].dt.time\n",
    "\n",
    "database['hour'] = database.time.dt.hour\n",
    "# database['hour'].value_counts()\n",
    "\n",
    "database['victims'] = database['victims'].fillna(0)\n",
    "database.victims = database.victims.astype(int)\n",
    "database.hour = database.victims.astype(int)\n",
    "database.x = database.x.astype(int)\n",
    "database.y = database.y.astype(int)\n",
    "database.day = database.day.astype(int)\n",
    "\n",
    "# database.dtypes"
   ]
  },
  {
   "cell_type": "code",
   "execution_count": 563,
   "metadata": {},
   "outputs": [],
   "source": [
    "from sklearn.preprocessing import StandardScaler\n",
    "from sklearn import tree\n",
    "\n",
    "# database = database[database.Crime != 1]\n",
    "\n",
    "scaler = StandardScaler()\n",
    "X_all = database.drop(['Crime'], 1)\n",
    "y_all = database['Crime']\n",
    "\n",
    "X_all = database[['hour', 'day', 'victims']]\n",
    "\n",
    "X_all = X_all.fillna(0)\n",
    "\n",
    "X_all = scaler.fit_transform(X_all)"
   ]
  },
  {
   "cell_type": "code",
   "execution_count": 564,
   "metadata": {},
   "outputs": [],
   "source": [
    "clf = tree.DecisionTreeClassifier()"
   ]
  },
  {
   "cell_type": "code",
   "execution_count": 565,
   "metadata": {},
   "outputs": [],
   "source": [
    "from sklearn.cross_validation import train_test_split\n",
    "\n",
    "X_train, X_test, y_train, y_test = train_test_split(X_all, y_all, random_state = 2)"
   ]
  },
  {
   "cell_type": "code",
   "execution_count": 566,
   "metadata": {},
   "outputs": [],
   "source": [
    "from sklearn.datasets import make_multilabel_classification\n",
    "from sklearn.multiclass import OneVsRestClassifier\n",
    "from sklearn.svm import SVC"
   ]
  },
  {
   "cell_type": "code",
   "execution_count": 567,
   "metadata": {},
   "outputs": [
    {
     "name": "stdout",
     "output_type": "stream",
     "text": [
      "0.22372169740590794\n",
      "0.2143928035982009\n"
     ]
    }
   ],
   "source": [
    "classif = OneVsRestClassifier(SVC(kernel = 'rbf'))\n",
    "classif.fit(X_train, y_train)\n",
    "\n",
    "y_pred = classif.predict(X_train)\n",
    "\n",
    "print(sum(y_train == y_pred) / float(len(y_pred)))\n",
    "\n",
    "y_pred = classif.predict(X_test)\n",
    "\n",
    "print(sum(y_test == y_pred) / float(len(y_pred)))"
   ]
  },
  {
   "cell_type": "code",
   "execution_count": null,
   "metadata": {},
   "outputs": [],
   "source": [
    "auto : 28%\n",
    "rape : 24%\n",
    "burglary-res : 24%\n",
    "larch-nonveh : 23\n",
    "robbpeds 22\n",
    "burgnonr 21\n",
    "r"
   ]
  }
 ],
 "metadata": {
  "kernelspec": {
   "display_name": "Python 3",
   "language": "python",
   "name": "python3"
  },
  "language_info": {
   "codemirror_mode": {
    "name": "ipython",
    "version": 3
   },
   "file_extension": ".py",
   "mimetype": "text/x-python",
   "name": "python",
   "nbconvert_exporter": "python",
   "pygments_lexer": "ipython3",
   "version": "3.6.4"
  }
 },
 "nbformat": 4,
 "nbformat_minor": 1
}
