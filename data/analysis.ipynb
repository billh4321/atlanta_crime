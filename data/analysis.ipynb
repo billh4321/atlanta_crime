{
 "cells": [
  {
   "cell_type": "code",
   "execution_count": 557,
   "metadata": {},
   "outputs": [],
   "source": [
    "import pandas as pd\n",
    "from sklearn.linear_model import LogisticRegression"
   ]
  },
  {
   "cell_type": "code",
   "execution_count": 558,
   "metadata": {},
   "outputs": [],
   "source": [
    "database = pd.read_csv('COBRA-YTD2017.csv')"
   ]
  },
  {
   "cell_type": "code",
   "execution_count": 559,
   "metadata": {},
   "outputs": [
    {
     "data": {
      "text/html": [
       "<div>\n",
       "<style scoped>\n",
       "    .dataframe tbody tr th:only-of-type {\n",
       "        vertical-align: middle;\n",
       "    }\n",
       "\n",
       "    .dataframe tbody tr th {\n",
       "        vertical-align: top;\n",
       "    }\n",
       "\n",
       "    .dataframe thead th {\n",
       "        text-align: right;\n",
       "    }\n",
       "</style>\n",
       "<table border=\"1\" class=\"dataframe\">\n",
       "  <thead>\n",
       "    <tr style=\"text-align: right;\">\n",
       "      <th></th>\n",
       "      <th>MI_PRINX</th>\n",
       "      <th>offense_id</th>\n",
       "      <th>rpt_date</th>\n",
       "      <th>occur_date</th>\n",
       "      <th>time</th>\n",
       "      <th>poss_date</th>\n",
       "      <th>poss_time</th>\n",
       "      <th>beat</th>\n",
       "      <th>apt_office_prefix</th>\n",
       "      <th>apt_office_num</th>\n",
       "      <th>...</th>\n",
       "      <th>dispo_code</th>\n",
       "      <th>victims</th>\n",
       "      <th>Shift</th>\n",
       "      <th>day</th>\n",
       "      <th>loc_type</th>\n",
       "      <th>Crime</th>\n",
       "      <th>neighborhood</th>\n",
       "      <th>npu</th>\n",
       "      <th>x</th>\n",
       "      <th>y</th>\n",
       "    </tr>\n",
       "  </thead>\n",
       "  <tbody>\n",
       "    <tr>\n",
       "      <th>0</th>\n",
       "      <td>8924155</td>\n",
       "      <td>173650072</td>\n",
       "      <td>12/31/2017</td>\n",
       "      <td>12/30/2017</td>\n",
       "      <td>23:15:00</td>\n",
       "      <td>12/31/2017</td>\n",
       "      <td>00:30:00</td>\n",
       "      <td>510</td>\n",
       "      <td>NaN</td>\n",
       "      <td>NaN</td>\n",
       "      <td>...</td>\n",
       "      <td>NaN</td>\n",
       "      <td>2.0</td>\n",
       "      <td>Morn</td>\n",
       "      <td>Sat</td>\n",
       "      <td>13.0</td>\n",
       "      <td>LARCENY-FROM VEHICLE</td>\n",
       "      <td>Downtown</td>\n",
       "      <td>M</td>\n",
       "      <td>-84.38013</td>\n",
       "      <td>33.75582</td>\n",
       "    </tr>\n",
       "    <tr>\n",
       "      <th>1</th>\n",
       "      <td>8924156</td>\n",
       "      <td>173650102</td>\n",
       "      <td>12/31/2017</td>\n",
       "      <td>12/18/2017</td>\n",
       "      <td>13:00:00</td>\n",
       "      <td>12/30/2017</td>\n",
       "      <td>22:00:00</td>\n",
       "      <td>501</td>\n",
       "      <td>NaN</td>\n",
       "      <td>NaN</td>\n",
       "      <td>...</td>\n",
       "      <td>NaN</td>\n",
       "      <td>1.0</td>\n",
       "      <td>Unk</td>\n",
       "      <td>Unk</td>\n",
       "      <td>13.0</td>\n",
       "      <td>LARCENY-FROM VEHICLE</td>\n",
       "      <td>Home Park</td>\n",
       "      <td>E</td>\n",
       "      <td>-84.39745</td>\n",
       "      <td>33.78674</td>\n",
       "    </tr>\n",
       "    <tr>\n",
       "      <th>2</th>\n",
       "      <td>8924157</td>\n",
       "      <td>173650144</td>\n",
       "      <td>12/31/2017</td>\n",
       "      <td>12/30/2017</td>\n",
       "      <td>22:01:00</td>\n",
       "      <td>12/31/2017</td>\n",
       "      <td>01:00:00</td>\n",
       "      <td>303</td>\n",
       "      <td>NaN</td>\n",
       "      <td>NaN</td>\n",
       "      <td>...</td>\n",
       "      <td>NaN</td>\n",
       "      <td>1.0</td>\n",
       "      <td>Morn</td>\n",
       "      <td>Sat</td>\n",
       "      <td>18.0</td>\n",
       "      <td>LARCENY-FROM VEHICLE</td>\n",
       "      <td>Mechanicsville</td>\n",
       "      <td>V</td>\n",
       "      <td>-84.39486</td>\n",
       "      <td>33.73760</td>\n",
       "    </tr>\n",
       "    <tr>\n",
       "      <th>3</th>\n",
       "      <td>8924158</td>\n",
       "      <td>173650149</td>\n",
       "      <td>12/31/2017</td>\n",
       "      <td>12/30/2017</td>\n",
       "      <td>20:00:00</td>\n",
       "      <td>12/31/2017</td>\n",
       "      <td>01:06:00</td>\n",
       "      <td>507</td>\n",
       "      <td>NaN</td>\n",
       "      <td>NaN</td>\n",
       "      <td>...</td>\n",
       "      <td>NaN</td>\n",
       "      <td>1.0</td>\n",
       "      <td>Eve</td>\n",
       "      <td>Sat</td>\n",
       "      <td>18.0</td>\n",
       "      <td>LARCENY-FROM VEHICLE</td>\n",
       "      <td>Castleberry Hill</td>\n",
       "      <td>M</td>\n",
       "      <td>-84.39887</td>\n",
       "      <td>33.75156</td>\n",
       "    </tr>\n",
       "    <tr>\n",
       "      <th>4</th>\n",
       "      <td>8924159</td>\n",
       "      <td>173650159</td>\n",
       "      <td>12/31/2017</td>\n",
       "      <td>12/31/2017</td>\n",
       "      <td>00:41:00</td>\n",
       "      <td>12/31/2017</td>\n",
       "      <td>00:48:00</td>\n",
       "      <td>409</td>\n",
       "      <td>NaN</td>\n",
       "      <td>NaN</td>\n",
       "      <td>...</td>\n",
       "      <td>NaN</td>\n",
       "      <td>2.0</td>\n",
       "      <td>Morn</td>\n",
       "      <td>Sun</td>\n",
       "      <td>18.0</td>\n",
       "      <td>LARCENY-FROM VEHICLE</td>\n",
       "      <td>Adams Park</td>\n",
       "      <td>R</td>\n",
       "      <td>-84.46522</td>\n",
       "      <td>33.72146</td>\n",
       "    </tr>\n",
       "  </tbody>\n",
       "</table>\n",
       "<p>5 rows × 23 columns</p>\n",
       "</div>"
      ],
      "text/plain": [
       "LARCENY-FROM VEHICLE    9840\n",
       "LARCENY-NON VEHICLE     6589\n",
       "AUTO THEFT              3197\n",
       "BURGLARY-RESIDENCE      2635\n",
       "AGG ASSAULT             2024\n",
       "ROBBERY-PEDESTRIAN      1126\n",
       "BURGLARY-NONRES          758\n",
       "RAPE                     226\n",
       "ROBBERY-COMMERCIAL       157\n",
       "ROBBERY-RESIDENCE        132\n",
       "HOMICIDE                  75\n",
       "Name: Crime, dtype: int64"
      ]
     },
     "execution_count": 559,
     "metadata": {},
     "output_type": "execute_result"
    }
   ],
   "source": [
    "database.rename(columns={'UC2 Literal' : 'Crime', 'occur_time': 'time', 'MaxOfnum_victims': 'victims', 'Avg Day': 'day'}, inplace=True)\n",
    "# database.head()\n",
    "database.Crime.value_counts()"
   ]
  },
  {
   "cell_type": "code",
   "execution_count": 4,

   "metadata": {},
   "outputs": [
    {
     "data": {
      "text/plain": [
       "LARCENY-FROM VEHICLE    9837\n",
       "LARCENY-NON VEHICLE     6586\n",
       "AUTO THEFT              3197\n",
       "BURGLARY-RESIDENCE      2635\n",
       "AGG ASSAULT             2023\n",
       "ROBBERY-PEDESTRIAN      1126\n",
       "BURGLARY-NONRES          758\n",
       "RAPE                     226\n",
       "ROBBERY-COMMERCIAL       157\n",
       "ROBBERY-RESIDENCE        132\n",
       "HOMICIDE                  75\n",
       "Name: Crime, dtype: int64"
      ]
     },
     "execution_count": 4,
     "metadata": {},
     "output_type": "execute_result"
    }
   ],
   "source": [
    "# NOTE : I removed rows where victims are only 1, it screws up the results.\n",
    "\n",
    "# database.day.unique()\n",
    "arr = [23, 24, 21, 19, 27, 17, 15]\n",
    "database = database[database.victims != 23]\n",
    "database = database[database.victims != 24]\n",
    "database = database[database.victims != 21]\n",
    "database = database[database.victims != 19]\n",
    "database = database[database.victims != 27]\n",
    "database = database[database.victims != 17]\n",
    "database = database[database.victims != 15]\n",
<<<<<<< HEAD
=======
    "database = database[database.Crime != 'HOMICIDE']\n",
>>>>>>> f72a09107e4ae18c3a11690f393163778f413600
    "database.Crime.value_counts()"
   ]
  },
  {
   "cell_type": "code",
   "execution_count": 561,
   "metadata": {},
   "outputs": [
    {
     "data": {
      "text/plain": [
       "10"
      ]
     },
     "execution_count": 561,
     "metadata": {},
     "output_type": "execute_result"
    }
   ],
   "source": [
    "# NOTE: Clean up database and remove strings basically.\n",
    "\n",
    "database['Crime'] = database['Crime'].replace({'LARCENY-FROM VEHICLE': '1',\n",
    "                          'ROBBERY-PEDESTRIAN': '2',\n",
    "                          'BURGLARY-RESIDENCE': '3',\n",
    "                          'AUTO THEFT': '4',\n",
    "                          'BURGLARY-NONRES': '5',\n",
    "                          'ROBBERY-RESIDENCE': '6',\n",
    "                          'LARCENY-NON VEHICLE': '7',\n",
    "                          'AGG ASSAULT': '8',\n",
    "                            'RAPE': '9',\n",
    "                          'ROBBERY-COMMERCIAL': '10',\n",
    "                          'HOMICIDE': '11'})\n",
    "\n",
    "database['day'] = database['day'].replace({'Mon': '1',\n",
    "                                          'Tue': '2',\n",
    "                                          'Wed': '3',\n",
    "                                          'Thu': '4',\n",
    "                                          'Fri': '5',\n",
    "                                          'Sat': '6',\n",
    "                                          'Sun': '7',\n",
    "                                          'Unk': '0'})"
    "\n",
    "database.Crime.nunique()"
   ]
  },
  {
   "cell_type": "code",
   "execution_count": 6,
   "metadata": {},
   "outputs": [
    {
     "data": {
      "text/plain": [
       "MI_PRINX                      int64\n",
       "offense_id                    int64\n",
       "rpt_date                     object\n",
       "occur_date                   object\n",
       "time                 datetime64[ns]\n",
       "poss_date                    object\n",
       "poss_time                    object\n",
       "beat                          int64\n",
       "apt_office_prefix            object\n",
       "apt_office_num               object\n",
       "location                     object\n",
       "MinOfucr                      int64\n",
       "MinOfibr_code                object\n",
       "dispo_code                   object\n",
       "victims                       int32\n",
       "Shift                        object\n",
       "day                           int32\n",
       "loc_type                    float64\n",
       "Crime                        object\n",
       "neighborhood                 object\n",
       "npu                          object\n",
       "x                             int32\n",
       "y                             int32\n",
       "hour                          int32\n",
       "dtype: object"
      ]
     },
     "execution_count": 6,
     "metadata": {},
     "output_type": "execute_result"
    }
   ],
   "source": [
    "# NOTE : Gotta convert everything to int for train_test_split\n",
    "\n",
    "database['time'] = pd.to_datetime(database.time)\n",
    "# # TODO: Figure out how to plot a scatter_matrix\n",
    "\n",
    "# # from pandas.plotting import scatter_matrix\n",
    "\n",
    "# # database['occur_time'] = pd.to_datetime(database['occur_time'], errors='coerce')\n",
    "\n",
    "# # database['occur_time'] = database['occur_time'].dt.time\n",
    "\n",
    "database['hour'] = database.time.dt.hour\n",
    "# database['hour'].value_counts()\n",
    "\n",
    "database['victims'] = database['victims'].fillna(0)\n",
    "database.victims = database.victims.astype(int)\n",
    "database.hour = database.victims.astype(int)\n",
    "database.x = database.x.astype(int)\n",
    "database.y = database.y.astype(int)\n",
    "database.day = database.day.astype(int)\n",
    "\n",
    "# database.dtypes"
   ]
  },
  {
   "cell_type": "code",
   "execution_count": 7,
   "metadata": {},
   "outputs": [],
   "source": [
    "from sklearn.preprocessing import StandardScaler\n",
    "from sklearn import tree\n",
    "\n",
    "# database = database[database.Crime != 1]\n",
    "\n",
    "scaler = StandardScaler()\n",
    "X_all = database.drop(['Crime'], 1)\n",
    "y_all = database['Crime']\n",
    "\n",
    "X_all = database[['hour', 'day', 'x', 'y', 'victims']]\n",
    "\n",
    "X_all = X_all.fillna(0)\n",
    "\n",
    "X_all = scaler.fit_transform(X_all)"
   ]
  },
  {
   "cell_type": "code",
   "execution_count": 564,
   "metadata": {},
   "outputs": [],
   "source": [
    "clf = tree.DecisionTreeClassifier()"
   ]
  },
  {
   "cell_type": "code",
   "execution_count": 565,
   "metadata": {},
   "outputs": [],
   "source": [
    "from sklearn.cross_validation import train_test_split\n",
    "\n",
    "X_train, X_test, y_train, y_test = train_test_split(X_all, y_all, random_state = 2)"
   ]
  },
  {
   "cell_type": "code",
   "execution_count": 9,
   "metadata": {},
   "outputs": [],
   "source": [
    "from sklearn.datasets import make_multilabel_classification\n",
    "from sklearn.multiclass import OneVsRestClassifier\n",
    "from sklearn.svm import SVC"
   ]
  },
  {
   "cell_type": "code",
   "execution_count": 567,
   "metadata": {},
   "outputs": [
    {
     "name": "stdout",
     "output_type": "stream",
     "text": [
      "0.22372169740590794\n",
      "0.2143928035982009\n"
     ]
    }
   ],
   "source": [
    "classif = OneVsRestClassifier(SVC(kernel = 'rbf'))\n",
    "classif.fit(X_train, y_train)\n",
    "\n",
    "y_pred = classif.predict(X_train)\n",
    "\n",
    "print(sum(y_train == y_pred) / float(len(y_pred)))\n",
    "\n",
    "y_pred = classif.predict(X_test)\n",
    "\n",
    "print(sum(y_test == y_pred) / float(len(y_pred)))"
   ]
  },
  {
   "cell_type": "code",
   "execution_count": null,
   "metadata": {},
   "outputs": [],
   "source": [
    "auto : 28%\n",
    "rape : 24%\n",
    "burglary-res : 24%\n",
    "larch-nonveh : 23\n",
    "robbpeds 22\n",
    "burgnonr 21\n",
    "r"
   ]
  }
 ],
 "metadata": {
  "kernelspec": {
   "display_name": "Python 3",
   "language": "python",
   "name": "python3"
  },
  "language_info": {
   "codemirror_mode": {
    "name": "ipython",
    "version": 3
   },
   "file_extension": ".py",
   "mimetype": "text/x-python",
   "name": "python",
   "nbconvert_exporter": "python",
   "pygments_lexer": "ipython3",
   "version": "3.5.2"
  }
 },
 "nbformat": 4,
 "nbformat_minor": 1
}
